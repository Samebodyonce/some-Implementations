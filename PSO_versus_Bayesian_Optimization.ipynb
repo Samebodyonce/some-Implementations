{
  "nbformat": 4,
  "nbformat_minor": 0,
  "metadata": {
    "colab": {
      "provenance": []
    },
    "kernelspec": {
      "name": "python3",
      "display_name": "Python 3"
    },
    "language_info": {
      "name": "python"
    }
  },
  "cells": [
    {
      "cell_type": "code",
      "source": [
        "!pip install scikit-optimize"
      ],
      "metadata": {
        "colab": {
          "base_uri": "https://localhost:8080/"
        },
        "id": "vcpW11IdEJee",
        "outputId": "8fcf6ae2-54fd-4b0a-d62a-eedfc9b4c22b"
      },
      "execution_count": null,
      "outputs": [
        {
          "output_type": "stream",
          "name": "stdout",
          "text": [
            "Collecting scikit-optimize\n",
            "  Downloading scikit_optimize-0.9.0-py2.py3-none-any.whl (100 kB)\n",
            "\u001b[2K     \u001b[90m━━━━━━━━━━━━━━━━━━━━━━━━━━━━━━━━━━━━━━━━\u001b[0m \u001b[32m100.3/100.3 kB\u001b[0m \u001b[31m1.1 MB/s\u001b[0m eta \u001b[36m0:00:00\u001b[0m\n",
            "\u001b[?25hRequirement already satisfied: joblib>=0.11 in /usr/local/lib/python3.10/dist-packages (from scikit-optimize) (1.3.2)\n",
            "Collecting pyaml>=16.9 (from scikit-optimize)\n",
            "  Downloading pyaml-23.9.7-py3-none-any.whl (23 kB)\n",
            "Requirement already satisfied: numpy>=1.13.3 in /usr/local/lib/python3.10/dist-packages (from scikit-optimize) (1.23.5)\n",
            "Requirement already satisfied: scipy>=0.19.1 in /usr/local/lib/python3.10/dist-packages (from scikit-optimize) (1.11.3)\n",
            "Requirement already satisfied: scikit-learn>=0.20.0 in /usr/local/lib/python3.10/dist-packages (from scikit-optimize) (1.2.2)\n",
            "Requirement already satisfied: PyYAML in /usr/local/lib/python3.10/dist-packages (from pyaml>=16.9->scikit-optimize) (6.0.1)\n",
            "Requirement already satisfied: threadpoolctl>=2.0.0 in /usr/local/lib/python3.10/dist-packages (from scikit-learn>=0.20.0->scikit-optimize) (3.2.0)\n",
            "Installing collected packages: pyaml, scikit-optimize\n",
            "Successfully installed pyaml-23.9.7 scikit-optimize-0.9.0\n"
          ]
        }
      ]
    },
    {
      "cell_type": "code",
      "source": [
        "# Required imports\n",
        "import pandas as pd\n",
        "import numpy as np\n",
        "from sklearn.model_selection import train_test_split, cross_val_score\n",
        "from sklearn.preprocessing import StandardScaler\n",
        "from sklearn.svm import SVC\n",
        "from sklearn.metrics import accuracy_score\n",
        "from skopt import BayesSearchCV\n",
        "from skopt.space import Real"
      ],
      "metadata": {
        "id": "RDg0oupkEIZo"
      },
      "execution_count": null,
      "outputs": []
    },
    {
      "cell_type": "code",
      "source": [
        "# Load the Wine Quality dataset\n",
        "url = \"https://archive.ics.uci.edu/ml/machine-learning-databases/wine-quality/winequality-red.csv\"\n",
        "data = pd.read_csv(url, delimiter=';')\n",
        "\n",
        "# Convert quality scores into categorical classes\n",
        "bins = [0, 5, 7, 10] # Define bins for low, medium, high\n",
        "labels = [0, 1, 2] # 0: low, 1: medium, 2: high\n",
        "data['quality'] = pd.cut(data['quality'], bins=bins, labels=labels)\n",
        "\n",
        "# Split the dataset\n",
        "X = data.drop('quality', axis=1)\n",
        "y = data['quality'].astype(int).values\n",
        "X_train, X_test, y_train, y_test = train_test_split(X, y, test_size=0.3, random_state=42)"
      ],
      "metadata": {
        "id": "H2iTAXYvEoRy"
      },
      "execution_count": null,
      "outputs": []
    },
    {
      "cell_type": "code",
      "source": [
        "X.shape"
      ],
      "metadata": {
        "colab": {
          "base_uri": "https://localhost:8080/"
        },
        "id": "81ZO7WsiMIiS",
        "outputId": "f2d5423a-5a1f-4100-ce6d-8cffefefa1ba"
      },
      "execution_count": null,
      "outputs": [
        {
          "output_type": "execute_result",
          "data": {
            "text/plain": [
              "(1599, 11)"
            ]
          },
          "metadata": {},
          "execution_count": 26
        }
      ]
    },
    {
      "cell_type": "code",
      "source": [
        "set(y)"
      ],
      "metadata": {
        "id": "5L3WGT_1MN5v",
        "outputId": "57c23aeb-7e54-4a51-8180-5ab38747f11c",
        "colab": {
          "base_uri": "https://localhost:8080/"
        }
      },
      "execution_count": null,
      "outputs": [
        {
          "output_type": "execute_result",
          "data": {
            "text/plain": [
              "{0, 1, 2}"
            ]
          },
          "metadata": {},
          "execution_count": 30
        }
      ]
    },
    {
      "cell_type": "code",
      "source": [
        "# Standardize the features\n",
        "scaler = StandardScaler()\n",
        "X_train = scaler.fit_transform(X_train)\n",
        "X_test = scaler.transform(X_test)"
      ],
      "metadata": {
        "id": "j-nP52VGEq5Z"
      },
      "execution_count": null,
      "outputs": []
    },
    {
      "cell_type": "code",
      "source": [
        "# PSO Fitness Function\n",
        "def svm_fitness(position):\n",
        "    C, gamma = position\n",
        "    model = SVC(C=C, gamma=gamma, random_state=42)\n",
        "    scores = cross_val_score(model, X_train, y_train, cv=5, scoring='accuracy')\n",
        "    return np.mean(scores)\n",
        "\n",
        "# PSO Particle class\n",
        "class Particle:\n",
        "    def __init__(self, bounds):\n",
        "        self.position = np.random.uniform(low=bounds[:, 0], high=bounds[:, 1], size=bounds.shape[0])\n",
        "        self.velocity = np.zeros(bounds.shape[0])\n",
        "        self.best_position = self.position.copy()\n",
        "        self.best_score = -np.inf\n",
        "\n",
        "    def update(self, global_best_position, w, c1, c2, bounds):\n",
        "        r1, r2 = np.random.random(size=2)\n",
        "        self.velocity = w * self.velocity + c1 * r1 * (self.best_position - self.position) + c2 * r2 * (global_best_position - self.position)\n",
        "        self.position = self.position + self.velocity\n",
        "\n",
        "        # Clip the position to stay within bounds\n",
        "        self.position = np.clip(self.position, bounds[:, 0], bounds[:, 1])\n",
        "\n",
        "# PSO algorithm\n",
        "def particle_swarm_optimization(fitness_function, bounds, num_particles=30, iterations=50, w=0.5, c1=2, c2=2):\n",
        "    particles = [Particle(bounds) for _ in range(num_particles)]\n",
        "    global_best_position = None\n",
        "    global_best_score = -np.inf\n",
        "\n",
        "    for iteration in range(iterations):\n",
        "        for particle in particles:\n",
        "            score = fitness_function(particle.position)\n",
        "            if score > particle.best_score:\n",
        "                particle.best_score = score\n",
        "                particle.best_position = particle.position\n",
        "\n",
        "            if score > global_best_score:\n",
        "                global_best_score = score\n",
        "                global_best_position = particle.position\n",
        "\n",
        "        for particle in particles:\n",
        "            particle.update(global_best_position, w, c1, c2, bounds)\n",
        "\n",
        "    return global_best_position, global_best_score"
      ],
      "metadata": {
        "id": "1Z3q4ZYhEsdp"
      },
      "execution_count": null,
      "outputs": []
    },
    {
      "cell_type": "code",
      "source": [
        "%%time\n",
        "# Define bounds for C and gamma\n",
        "bounds = np.array([[0.1, 100], [0.001, 1]])\n",
        "\n",
        "# Run PSO\n",
        "best_position_pso, best_score_pso = particle_swarm_optimization(svm_fitness, bounds)"
      ],
      "metadata": {
        "colab": {
          "base_uri": "https://localhost:8080/"
        },
        "id": "yoV0MtuS6HhM",
        "outputId": "28fa4766-b743-471f-e84a-b57e7f4086fe"
      },
      "execution_count": null,
      "outputs": [
        {
          "output_type": "stream",
          "name": "stdout",
          "text": [
            "CPU times: user 7min 27s, sys: 573 ms, total: 7min 28s\n",
            "Wall time: 7min 42s\n"
          ]
        }
      ]
    },
    {
      "cell_type": "code",
      "source": [
        "%%time\n",
        "# Bayesian Optimization\n",
        "search_space = {'C': Real(0.1, 100, 'log-uniform'), 'gamma': Real(0.001, 1, 'log-uniform')}\n",
        "bayes_search = BayesSearchCV(SVC(random_state=41), search_space, n_iter=30, scoring='accuracy', n_jobs=-1, cv=5)\n",
        "bayes_search.fit(X_train, y_train)\n",
        "\n",
        "# Best parameters and score from Bayesian Optimization\n",
        "best_params_bayes = bayes_search.best_params_\n",
        "best_score_bayes = bayes_search.best_score_"
      ],
      "metadata": {
        "colab": {
          "base_uri": "https://localhost:8080/"
        },
        "id": "WDvCncwrE35T",
        "outputId": "29c2089e-57c7-4275-d910-9672d66813f7"
      },
      "execution_count": null,
      "outputs": [
        {
          "output_type": "stream",
          "name": "stdout",
          "text": [
            "CPU times: user 27.4 s, sys: 14.9 s, total: 42.3 s\n",
            "Wall time: 38.7 s\n"
          ]
        }
      ]
    },
    {
      "cell_type": "code",
      "source": [
        "# Output results\n",
        "print(\"Best Parameters from PSO:\", best_position_pso)\n",
        "print(\"Best Score from PSO:\", best_score_pso)\n",
        "print(\"Best Parameters from Bayesian Optimization:\", best_params_bayes)\n",
        "print(\"Best Score from Bayesian Optimization:\", best_score_bayes)\n",
        "\n",
        "# Train and evaluate SVM with parameters from PSO\n",
        "svm_pso = SVC(C=best_position_pso[0], gamma=best_position_pso[1], random_state=42)\n",
        "svm_pso.fit(X_train, y_train)\n",
        "accuracy_pso = accuracy_score(y_test, svm_pso.predict(X_test))\n",
        "\n",
        "# Train and evaluate SVM with parameters from Bayesian Optimization\n",
        "svm_bayes = SVC(C=bayes_search.best_estimator_.C, gamma=bayes_search.best_estimator_.gamma, random_state=42)\n",
        "svm_bayes.fit(X_train, y_train)\n",
        "accuracy_bayes = accuracy_score(y_test, svm_bayes.predict(X_test))\n",
        "\n",
        "# Output final accuracy results\n",
        "print(\"Test Accuracy with PSO parameters:\", accuracy_pso)\n",
        "print(\"Test Accuracy with Bayesian Optimization parameters:\", accuracy_bayes)"
      ],
      "metadata": {
        "colab": {
          "base_uri": "https://localhost:8080/"
        },
        "id": "SSSbZ48QE0FY",
        "outputId": "95fea1a7-b34a-42ba-e074-97207b93edd5"
      },
      "execution_count": null,
      "outputs": [
        {
          "output_type": "stream",
          "name": "stdout",
          "text": [
            "Best Parameters from PSO: [2.65600356 0.44666913]\n",
            "Best Score from PSO: 0.765002402306214\n",
            "Best Parameters from Bayesian Optimization: OrderedDict([('C', 1.373861629213652), ('gamma', 0.1775970525437393)])\n",
            "Best Score from Bayesian Optimization: 0.7632286995515696\n",
            "Test Accuracy with PSO parameters: 0.7479166666666667\n",
            "Test Accuracy with Bayesian Optimization parameters: 0.7458333333333333\n"
          ]
        }
      ]
    },
    {
      "cell_type": "code",
      "source": [
        "%%time\n",
        "model_defolt = SVC()\n",
        "model_defolt.fit(X_train, y_train)"
      ],
      "metadata": {
        "colab": {
          "base_uri": "https://localhost:8080/",
          "height": 109
        },
        "id": "iSdKii9N91Ox",
        "outputId": "326d9a5d-8c35-4d8d-cd76-22c5fea0a912"
      },
      "execution_count": null,
      "outputs": [
        {
          "output_type": "stream",
          "name": "stdout",
          "text": [
            "CPU times: user 61.9 ms, sys: 0 ns, total: 61.9 ms\n",
            "Wall time: 62.2 ms\n"
          ]
        },
        {
          "output_type": "execute_result",
          "data": {
            "text/plain": [
              "SVC()"
            ],
            "text/html": [
              "<style>#sk-container-id-1 {color: black;background-color: white;}#sk-container-id-1 pre{padding: 0;}#sk-container-id-1 div.sk-toggleable {background-color: white;}#sk-container-id-1 label.sk-toggleable__label {cursor: pointer;display: block;width: 100%;margin-bottom: 0;padding: 0.3em;box-sizing: border-box;text-align: center;}#sk-container-id-1 label.sk-toggleable__label-arrow:before {content: \"▸\";float: left;margin-right: 0.25em;color: #696969;}#sk-container-id-1 label.sk-toggleable__label-arrow:hover:before {color: black;}#sk-container-id-1 div.sk-estimator:hover label.sk-toggleable__label-arrow:before {color: black;}#sk-container-id-1 div.sk-toggleable__content {max-height: 0;max-width: 0;overflow: hidden;text-align: left;background-color: #f0f8ff;}#sk-container-id-1 div.sk-toggleable__content pre {margin: 0.2em;color: black;border-radius: 0.25em;background-color: #f0f8ff;}#sk-container-id-1 input.sk-toggleable__control:checked~div.sk-toggleable__content {max-height: 200px;max-width: 100%;overflow: auto;}#sk-container-id-1 input.sk-toggleable__control:checked~label.sk-toggleable__label-arrow:before {content: \"▾\";}#sk-container-id-1 div.sk-estimator input.sk-toggleable__control:checked~label.sk-toggleable__label {background-color: #d4ebff;}#sk-container-id-1 div.sk-label input.sk-toggleable__control:checked~label.sk-toggleable__label {background-color: #d4ebff;}#sk-container-id-1 input.sk-hidden--visually {border: 0;clip: rect(1px 1px 1px 1px);clip: rect(1px, 1px, 1px, 1px);height: 1px;margin: -1px;overflow: hidden;padding: 0;position: absolute;width: 1px;}#sk-container-id-1 div.sk-estimator {font-family: monospace;background-color: #f0f8ff;border: 1px dotted black;border-radius: 0.25em;box-sizing: border-box;margin-bottom: 0.5em;}#sk-container-id-1 div.sk-estimator:hover {background-color: #d4ebff;}#sk-container-id-1 div.sk-parallel-item::after {content: \"\";width: 100%;border-bottom: 1px solid gray;flex-grow: 1;}#sk-container-id-1 div.sk-label:hover label.sk-toggleable__label {background-color: #d4ebff;}#sk-container-id-1 div.sk-serial::before {content: \"\";position: absolute;border-left: 1px solid gray;box-sizing: border-box;top: 0;bottom: 0;left: 50%;z-index: 0;}#sk-container-id-1 div.sk-serial {display: flex;flex-direction: column;align-items: center;background-color: white;padding-right: 0.2em;padding-left: 0.2em;position: relative;}#sk-container-id-1 div.sk-item {position: relative;z-index: 1;}#sk-container-id-1 div.sk-parallel {display: flex;align-items: stretch;justify-content: center;background-color: white;position: relative;}#sk-container-id-1 div.sk-item::before, #sk-container-id-1 div.sk-parallel-item::before {content: \"\";position: absolute;border-left: 1px solid gray;box-sizing: border-box;top: 0;bottom: 0;left: 50%;z-index: -1;}#sk-container-id-1 div.sk-parallel-item {display: flex;flex-direction: column;z-index: 1;position: relative;background-color: white;}#sk-container-id-1 div.sk-parallel-item:first-child::after {align-self: flex-end;width: 50%;}#sk-container-id-1 div.sk-parallel-item:last-child::after {align-self: flex-start;width: 50%;}#sk-container-id-1 div.sk-parallel-item:only-child::after {width: 0;}#sk-container-id-1 div.sk-dashed-wrapped {border: 1px dashed gray;margin: 0 0.4em 0.5em 0.4em;box-sizing: border-box;padding-bottom: 0.4em;background-color: white;}#sk-container-id-1 div.sk-label label {font-family: monospace;font-weight: bold;display: inline-block;line-height: 1.2em;}#sk-container-id-1 div.sk-label-container {text-align: center;}#sk-container-id-1 div.sk-container {/* jupyter's `normalize.less` sets `[hidden] { display: none; }` but bootstrap.min.css set `[hidden] { display: none !important; }` so we also need the `!important` here to be able to override the default hidden behavior on the sphinx rendered scikit-learn.org. See: https://github.com/scikit-learn/scikit-learn/issues/21755 */display: inline-block !important;position: relative;}#sk-container-id-1 div.sk-text-repr-fallback {display: none;}</style><div id=\"sk-container-id-1\" class=\"sk-top-container\"><div class=\"sk-text-repr-fallback\"><pre>SVC()</pre><b>In a Jupyter environment, please rerun this cell to show the HTML representation or trust the notebook. <br />On GitHub, the HTML representation is unable to render, please try loading this page with nbviewer.org.</b></div><div class=\"sk-container\" hidden><div class=\"sk-item\"><div class=\"sk-estimator sk-toggleable\"><input class=\"sk-toggleable__control sk-hidden--visually\" id=\"sk-estimator-id-1\" type=\"checkbox\" checked><label for=\"sk-estimator-id-1\" class=\"sk-toggleable__label sk-toggleable__label-arrow\">SVC</label><div class=\"sk-toggleable__content\"><pre>SVC()</pre></div></div></div></div></div>"
            ]
          },
          "metadata": {},
          "execution_count": 11
        }
      ]
    },
    {
      "cell_type": "code",
      "source": [
        "np.mean(cross_val_score(model_defolt, X_train, y_train, cv=5, scoring='accuracy'))"
      ],
      "metadata": {
        "colab": {
          "base_uri": "https://localhost:8080/"
        },
        "id": "GZqdf-obBOmA",
        "outputId": "182ee85d-d40d-4b55-b2fe-f47dd3cb97c4"
      },
      "execution_count": null,
      "outputs": [
        {
          "output_type": "execute_result",
          "data": {
            "text/plain": [
              "0.755209000640615"
            ]
          },
          "metadata": {},
          "execution_count": 12
        }
      ]
    },
    {
      "cell_type": "code",
      "source": [
        "accuracy_score(y_test, model_defolt.predict(X_test))"
      ],
      "metadata": {
        "colab": {
          "base_uri": "https://localhost:8080/"
        },
        "id": "c4gk8-uzBXF5",
        "outputId": "befb3d6c-f5bc-4f43-f04c-ffee417ca6ef"
      },
      "execution_count": null,
      "outputs": [
        {
          "output_type": "execute_result",
          "data": {
            "text/plain": [
              "0.7354166666666667"
            ]
          },
          "metadata": {},
          "execution_count": 14
        }
      ]
    },
    {
      "cell_type": "code",
      "source": [],
      "metadata": {
        "id": "Q2zw7clKBzJo"
      },
      "execution_count": null,
      "outputs": []
    }
  ]
}